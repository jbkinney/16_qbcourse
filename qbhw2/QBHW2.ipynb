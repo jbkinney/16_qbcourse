{
 "cells": [
  {
   "cell_type": "markdown",
   "metadata": {},
   "source": [
    "# Quantitative Biology Problem Set 2"
   ]
  },
  {
   "cell_type": "markdown",
   "metadata": {},
   "source": [
    "Written by Justin B. Kinney\n",
    "\n",
    "Due on Friday, 14 October 2016. Submit an IPython notbook that I can run to get the answers to all of these problems. Use Markdown or comments within the code to explain your reasoning. Email to [jkinney@cshl.edu](mailto:jkinney@cshl.edu) by 11:59 pm."
   ]
  },
  {
   "cell_type": "code",
   "execution_count": null,
   "metadata": {
    "collapsed": true
   },
   "outputs": [],
   "source": [
    "# Always put this first\n",
    "%matplotlib inline\n",
    "from __future__ import division\n",
    "import numpy as np\n",
    "import pandas as pd\n",
    "import matplotlib.pyplot as plt"
   ]
  },
  {
   "cell_type": "markdown",
   "metadata": {},
   "source": [
    "**P1.** Using Python, compute a position weight matrix for CRP using the CRP sites in ```crp_sites.fasta```. Assume that random DNA has a GC content of 50.7%. Display this PWM as a heatmap. In the title of this heatmap, print the site length and the number of sites used to creat the PWM."
   ]
  },
  {
   "cell_type": "code",
   "execution_count": null,
   "metadata": {
    "collapsed": false
   },
   "outputs": [],
   "source": [
    "# Provide answer here"
   ]
  },
  {
   "cell_type": "markdown",
   "metadata": {},
   "source": [
    "**P2.** Write a Python function to evaluate an arbitrary PWM (or energy matrix) on an arbitrary DNA sequence. Include a docstring. Make sure this function throws an error if the DNA site and the matrix have incompatible shapes, or if the the site contains bases other than \"A\",\"C\",\"G\", and \"T\". Demonstrate that your function performs this error handling correctly."
   ]
  },
  {
   "cell_type": "code",
   "execution_count": null,
   "metadata": {
    "collapsed": true
   },
   "outputs": [],
   "source": [
    "# Provide answer here"
   ]
  },
  {
   "cell_type": "markdown",
   "metadata": {},
   "source": [
    "**P3.** Using your function from problem P2, evaluate your PWM on all sites in crp_sites.fasta. Also, evaluate the energy matrix stored in the file ```crp_emat.txt``` (which is reverse-compelement symmetric and in units of $k_B T$) on all binding sites in crp_sites.fasta. Plot the PWM scores for each site against the energies predicted by the energy matrix. Label the x- and y-axes. "
   ]
  },
  {
   "cell_type": "code",
   "execution_count": null,
   "metadata": {
    "collapsed": false
   },
   "outputs": [],
   "source": [
    "# Provide answer here"
   ]
  },
  {
   "cell_type": "markdown",
   "metadata": {},
   "source": [
    "**P4.** Perform linear regression on the plot from problem P3, and plot the best fit line. What is the slope of this best fit line (Hint: check out the functions in scipy.stats)? What is the implication of this observation for the  arguments of Stormo & Fields (1998) and Berg & von Hippel (1987)?"
   ]
  },
  {
   "cell_type": "code",
   "execution_count": null,
   "metadata": {
    "collapsed": false
   },
   "outputs": [],
   "source": [
    "# Provide answer here"
   ]
  },
  {
   "cell_type": "markdown",
   "metadata": {},
   "source": [
    "**P5.** Consider an in vitro experiment in which purified CRP is allowed to bind to 1 copy of the E. coli chromosome. Assume that the CRP concentration is such the CRP binding site at the lac promoter, the sequence of which is ``` ATTAATGTGAGTTAGCTCACTCATTA```, is occupied 50% of the time. On average, how many total CRP molecules will be bound to all of the sites in ```crp_sites.txt```? Use the energy matrix scores (not the PWM scores) to answer this question. It's OK to assume that CRP binds independently to each site. "
   ]
  },
  {
   "cell_type": "code",
   "execution_count": null,
   "metadata": {
    "collapsed": false
   },
   "outputs": [],
   "source": [
    "# Provide answer here"
   ]
  },
  {
   "cell_type": "markdown",
   "metadata": {},
   "source": [
    "**P6.** Evaluate the CRP energy matrix on every 26 bp site within the E. coli genome (provided in ```ecoli_genome.fasta```).  Using the same CRP concentration as above, how many CRP molecules will, on average, be bound to the E. coli chromosome? What fraction of these CRP molecules will be bound to the annotated sites in ```crp_sites.fasta```? Remember: the E. coli chromosome is circular. "
   ]
  },
  {
   "cell_type": "code",
   "execution_count": null,
   "metadata": {
    "collapsed": false
   },
   "outputs": [],
   "source": [
    "# Provide answer here"
   ]
  }
 ],
 "metadata": {
  "kernelspec": {
   "display_name": "Python 2",
   "language": "python",
   "name": "python2"
  },
  "language_info": {
   "codemirror_mode": {
    "name": "ipython",
    "version": 2
   },
   "file_extension": ".py",
   "mimetype": "text/x-python",
   "name": "python",
   "nbconvert_exporter": "python",
   "pygments_lexer": "ipython2",
   "version": "2.7.11"
  }
 },
 "nbformat": 4,
 "nbformat_minor": 0
}
